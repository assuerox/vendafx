{
 "cells": [
  {
   "cell_type": "code",
   "execution_count": null,
   "id": "material-language",
   "metadata": {},
   "outputs": [],
   "source": [
    "portifolias - ['Celulares', 'Eletrodomésticos', 'Eletrônicos', 'Eletroportáteis']"
   ]
  },
  {
   "cell_type": "code",
   "execution_count": null,
   "id": "considerable-moderator",
   "metadata": {},
   "outputs": [],
   "source": [
    "statuses - ['2014', '2015', '2016', '2017', '2018', '2019']"
   ]
  },
  {
   "cell_type": "code",
   "execution_count": null,
   "id": "affected-display",
   "metadata": {},
   "outputs": [],
   "source": []
  },
  {
   "cell_type": "code",
   "execution_count": null,
   "id": "stuffed-affairs",
   "metadata": {},
   "outputs": [],
   "source": []
  }
 ],
 "metadata": {
  "kernelspec": {
   "display_name": "Python 3",
   "language": "python",
   "name": "python3"
  },
  "language_info": {
   "codemirror_mode": {
    "name": "ipython",
    "version": 3
   },
   "file_extension": ".py",
   "mimetype": "text/x-python",
   "name": "python",
   "nbconvert_exporter": "python",
   "pygments_lexer": "ipython3",
   "version": "3.7.7"
  }
 },
 "nbformat": 4,
 "nbformat_minor": 5
}
